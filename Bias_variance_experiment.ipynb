{
  "nbformat": 4,
  "nbformat_minor": 0,
  "metadata": {
    "colab": {
      "provenance": [],
      "authorship_tag": "ABX9TyPOfR1V4YXlohSJm0gRo6sj",
      "include_colab_link": true
    },
    "kernelspec": {
      "name": "python3",
      "display_name": "Python 3"
    },
    "language_info": {
      "name": "python"
    }
  },
  "cells": [
    {
      "cell_type": "markdown",
      "metadata": {
        "id": "view-in-github",
        "colab_type": "text"
      },
      "source": [
        "<a href=\"https://colab.research.google.com/github/jdcarrascali/Matematicas-del-aprendizaje-de-maquinas/blob/main/Bias_variance_experiment.ipynb\" target=\"_parent\"><img src=\"https://colab.research.google.com/assets/colab-badge.svg\" alt=\"Open In Colab\"/></a>"
      ]
    },
    {
      "cell_type": "markdown",
      "source": [
        "#Problema 2.23\n",
        "\n",
        "Considere el espacio $X=[-1,+1]$, la función objetivo $f(x)=sin(\\pi x)$, y tomemos la distribución de probabilidad asociada a los features del data set como una distribución  uniforme  definida sobre $X$. Suponga que el data set tiene solo dos datos de enrenamiento, y que el algoritmo elige la hipóteis que minimiza el error cuadrático medio. \n",
        "\n",
        "Encuentre (numérica y analíticamente):\n",
        "\n",
        "$(i)$ La hipótesis que aproxima $f$ en términos del error cuadrático medio (suponga que $f$ es conocida en este caso).\n",
        "\n",
        "$(ii)$  El valor esperado (con respecto a $D$) de la hipótesis que produce el algoritmo.\n",
        "\n",
        "$(iii)$ El valor esperado de $E_{out}$, su sesgo y su varianza.\n",
        "\n",
        "En los siguientes modelos\n",
        "\n",
        "*    El algoritmo de aprendizaje que considera el conjunto que todas las hipótesis de la forma $h(x)=ax+b$\n",
        "*  El algoritmo de aprendizaje que considera todas las hipótesis de la forma $h(x)=ax$\n",
        "*   El algoritmo de aprendizaje que considera el conjunto de todas las hipótesis de la forma $h(x)=b$.\n",
        "\n",
        "\n",
        "\n"
      ],
      "metadata": {
        "id": "6Q1TRpMUHkKA"
      }
    },
    {
      "cell_type": "markdown",
      "source": [
        "#Solución:\n",
        "\n",
        "$(i)$\n",
        "\n",
        "Para encontrar la mejor hipótesis que aproxima $f$ en términos del error cuadrático medio, debemos encontrar la hipótesis que minimiza este tipo de error. Veamos el caso en el que $h(x)=ax+b$,  y observe que \n",
        "\\begin{equation*}\n",
        "\\begin{split}\n",
        "E_{x}[(f(x)-h(x))^2]&=E_{x}([\\sin(\\pi x)-(ax+b))^2]\\\\\n",
        "&=\\int_{-\\infty}^{\\infty}x[sin(\\pi x)-(ax+b)]^2 dx\\\\\n",
        "&=\\int_{-1}^{1} x[sin(\\pi x)-(ax+b)]^2 dx \\\\\n",
        "\\end{split}\n",
        "\\end{equation*}\n",
        "\n",
        "Tomando las derivadas respecto a $a$ y  $b$, e igualando a $0$, obtenemos:\n",
        "\\begin{equation*}\n",
        "\\begin{split}\n",
        "\\frac{\\partial E}{\\partial a}&= \\int_{-1}^{1} (-2x) x[sin (\\pi x)-(ax+b)]dx= -2\\int_{-1}^{1}  x^2[sin (\\pi x)-(ax+b)]dx=0\\\\\n",
        "\\frac{\\partial E}{\\partial b}&=   \\int_{-1}^{1} (-2)x[sin (\\pi x)-(ax+b)]dx=-2\\int_{-1}^{1} x[sin (\\pi x)-(ax+b)]dx=0\n",
        "\\end{split}\n",
        "\\end{equation*}\n",
        "\n",
        "Resolviendo estas integrales, con el uso de un software de cálculo simbolico obtenemos:\n",
        "\\begin{equation*}\n",
        "\\begin{split}\n",
        "-2(-\\frac{2b}{3})&=0\\\\\n",
        "-2(\\frac{2}{\\pi}-\\frac{2a}{3})&=0\n",
        "\\end{split}\n",
        "\\end{equation*}\n",
        "\n",
        "De donde obtenemos que $a=\\frac{3}{\\pi}$ y $b=0$.\n",
        "\n",
        "De manera que las hipótesis que mejor aproximan a $f$ en términos del error cuadrático medio son:\n",
        "\n",
        "\n",
        "*    $h(x)=\\frac{3}{\\pi}x$\n",
        "*    $h(x)=\\frac{3}{\\pi}$ \n",
        "*    $h((x)=0$\n",
        "\n",
        "\n",
        "\n",
        "\n"
      ],
      "metadata": {
        "id": "S4wX6jT94oXv"
      }
    },
    {
      "cell_type": "markdown",
      "source": [
        "$(ii)$ \n",
        "\n",
        "Dados dos puntos $x_1$ y $x_2$,dado que estamos trabajando con MSE obtenemos:\n",
        "\\begin{equation*}\n",
        "\\begin{split}\n",
        "E_{in}(g)&=\\sum_{i=1}^N (f(x_i)-h(x_i))^2\\\\\n",
        "&=\\sum_{i=1}^{N}(sin(\\pi x_i)-(ax_i+b))^2\n",
        "\\end{split}\n",
        "\\end{equation*}\n",
        "\n",
        "Calculamos las derivadas respecto a $a$ y a $b$, de manera que:\n",
        "\n",
        "\\begin{equation*}\n",
        "\\begin{split}\n",
        "\\frac{\\partial E_{in}}{\\partial a}&=-2\\sum_{i=1} ^N x_i (sin(\\pi x_i)-(ax_i+b))=0\\\\\n",
        "\\frac{\\partial E_{in}}{\\partial b}&=-2 \\sum_{i=1} ^N (sin(\\pi x_i)-(ax_i+b))=0\n",
        "\\end{split}\n",
        "\\end{equation*}\n",
        "\n",
        "Si multiplicamos la segunda ecuación por $x_1$ y la restamos a la primera ecuación obtenemos:\n",
        "\n",
        "\\begin{equation*}\n",
        "\\begin{split}\n",
        "&x_1(\\sin(\\pi x_1)-(ax_1+b))+x_2(\\sin(\\pi x_2)-(ax_2+b))\\\\\n",
        "-&x_1(\\sin(\\pi x_1)-(ax_1+b))-x_1(\\sin(\\pi x_2)-(ax_2+b))=0\n",
        "\\end{split}\n",
        "\\end{equation*}\n",
        "\n",
        "Es decir,\n",
        "\\begin{equation*}\n",
        "(x_2-x_1)(\\sin(\\pi x_2)-(ax_2+b))=0  \\ \\ (*)\n",
        "\\end{equation*}\n",
        "\n",
        "Análogamente, si multiplicamos la segunda ecuación por $x_2$ y restamos el resultado a la primera, obtenemos:\n",
        "\n",
        "\\begin{equation*}\n",
        "(x_1-x_2)(\\sin(\\pi x_1)-(ax_1+b))=0 \\ \\ (**)\n",
        "\\end{equation*}\n",
        "\n",
        "Si suponemos que $x_1\\neq x_2$ entonces de $(*)$ y $(**)$:\n",
        "\\begin{equation*}\n",
        "\\begin{split}\n",
        "a&=\\frac{\\sin \\pi x_2-\\sin \\pi x_1}{x_2-x_1} \\\\\n",
        "b&=\\frac{x_2\\sin \\pi x_1-x_1\\sin \\pi x_2}{x_2-x_1}\n",
        "\\end{split}\n",
        "\\end{equation*}"
      ],
      "metadata": {
        "id": "_YX7ddVQdRlX"
      }
    },
    {
      "cell_type": "code",
      "source": [],
      "metadata": {
        "id": "erzvBPQKjpvU"
      },
      "execution_count": null,
      "outputs": []
    }
  ]
}